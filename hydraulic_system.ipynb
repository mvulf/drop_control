{
 "cells": [
  {
   "cell_type": "markdown",
   "metadata": {},
   "source": [
    "# Droplet Generation System. Hydraulic part"
   ]
  },
  {
   "cell_type": "markdown",
   "metadata": {},
   "source": [
    "# Problem setup"
   ]
  },
  {
   "cell_type": "markdown",
   "metadata": {},
   "source": [
    "## Piston Dynamics"
   ]
  },
  {
   "cell_type": "markdown",
   "metadata": {},
   "source": [
    "![img](./img/calc_scheme.png)\n",
    "\n",
    "Piston moves by the hydraulic and friction forces action:\n",
    "$$\n",
    "    m_p\\ddot{x_p} = F_h - F_{fr},\n",
    "$$\n",
    "### Hydraulic force $F_h$:\n",
    "$$\n",
    "    F_h = p_hA_h - p_tA_t,\n",
    "$$\n",
    "where hydraulic container pressure, according to the Darcy-Weisbach equation and relationship of the lateral surface area of the throttle \"cylinder\" to the position of the spool (**action**) $A_{th}(t) = \\pi D_{th} x_{th}(t)$:\n",
    "$$\n",
    "    p_h = p_l - \\frac{\\zeta_{th}\\rho_h D_h^4}{32D_{th}^2}\\left(\\frac{\\dot{x_p}}{x_{th}}\\right)^2\n",
    "$$\n",
    "test container pressure (according to the Darcy-Weisbach equation):\n",
    "$$\n",
    "    p_t = p_{atm} + \\frac{\\zeta_{exit}\\rho_t D_t^4}{2D_{exit}^4}\\dot{x_p}^2\n",
    "$$\n",
    "\n",
    "Hydraulic/Test container area:\n",
    "$$\n",
    "    A_{h,t}=\\frac{\\pi D_{h,t}^2}{4}\n",
    "$$\n",
    "\n",
    "$p_l$ - pressure of the hydraulic liquid before throttling;\n",
    "$p_{atm}$ - ambient environment (atmosphere) pressure;\n",
    "$\\zeta_{th}, \\zeta_{exit}$ - hydraulic loss coefficients at throttle and at syringe exit respectively;\n",
    "$\\rho_h, \\rho_t$ - densities of the hydraulic and test containers liquids\n",
    "\n",
    "### Friction $F_{fr}$\n",
    "Friction can be considered both by a stribeck curve or mechanical efficiency.\n",
    "Let us use a mechanical efficiency approach:\n",
    "\n",
    "![img](img/mechanical_efficiency.png)\n",
    "\n",
    "$$\n",
    "    F_{fr} = \\max{(F_C, (1-\\eta)F_h)},\n",
    "$$\n",
    "\n",
    "where $\\eta$ - mechanical efficiency;\n",
    "Coulomb friction force:\n",
    "$$\n",
    "    F_C = p_C\\cdot\\max{(A_h, A_t)}\n",
    "$$\n",
    "$p_C$ - pressure difference, which is necessary to overcome the dry friction"
   ]
  },
  {
   "cell_type": "markdown",
   "metadata": {},
   "source": [
    "## State dynamics function\n",
    "Let us consider a piston velocity:\n",
    "$$\n",
    "    v_p = \\dot{x_p}\n",
    "$$\n",
    "\n",
    "Then, state dynamics function is:\n",
    "$$\n",
    "    \\begin{aligned}\n",
    "        &   \\dot{x_p} = v_p,\n",
    "        \\\\\n",
    "        &   \\dot{v_p} = \\begin{cases} \\frac{1}{m_p}[F_h(v_p, x_{th}) + F_{fr}(v_p, x_{th})], \\text{ if } [|v_p| > 0] \\text{ or } [|F_h(v_p, x_{th})| > |F_{fr}(v_p, x_{th})|]\\\\\n",
    "                        0, \\text{ otherwise }\\end{cases}\n",
    "    \\end{aligned}\n",
    "    \\qquad x_{th} \\in [0, x_{th}^{max}],\n",
    "$$\n",
    "\n",
    "where:\n",
    "$$\n",
    "    \\begin{aligned}\n",
    "        &   F_h(v_p, x_{th}) = \\begin{cases} A_h \\max{\\left(\\left[p_l - \\frac{\\zeta_{th}\\rho_h D_h^4}{32D_{th}^2}\\left(\\frac{v_p}{x_{th}}\\right)^2 \\right], p_{sv} \\right)} - \\left[p_{atm} + \\frac{\\zeta_{exit}\\rho_t D_t^4}{2D_{exit}^4}v_p^2 \\right]A_t, \\text{ if } [x_{th} > 0] \\\\\n",
    "        A_h \\max{\\left( p_{h_{x_{th}>0}}+(\\frac{x_{x_{th}>0}}{x_p}-1)\\cdot E_l , p_{sv}\\right)} - A_t \\left[p_{atm} + \\frac{v_p^3}{|v_p|} \\frac{\\zeta_{exit}\\rho_t D_t^4}{2D_{exit}^4} \\right], \\text{ otherwise } \\end{cases} \\\\\n",
    "        &   F_{fr}(v_p, x_{th}) = \\begin{cases} -\\frac{v_p}{|v_p|}\\max{[p_C\\cdot A_{max}, (1-\\eta)\\cdot F_h(v_p, x_{th})]}, \\text{ if } [|v_p|>0] \\\\\n",
    "                                   -p_C\\cdot A_{max}, \\text{ otherwise } \\end{cases}\n",
    "    \\end{aligned}\n",
    "$$\n",
    "\n",
    "where $A_{max} = \\max{(A_h, A_t)}$; $p_l > p_{atm}$; $p_{sv}$ - saturated vapor pressure of liquid ($2340~Pa$ for water), $E_l$ - liquid elasticity module ($2\\cdot 10^9~Pa$ for water); $p_{h_{x_{th}>0}}, x_{x_{th}>0}$ - last hydraulic pressure and piston position when $x_{th}$ was more than 0\n",
    "\n",
    "\n",
    "## Observations\n",
    "\n",
    "A drop is squeezed out of the test container by piston:\n",
    "$$\n",
    "    \\begin{aligned}\n",
    "        &   \\dot{x_p} = v_p, \\\\\n",
    "        &   \\dot{v_p} = \\frac{1}{m_p}[F_h(v_p, x_{th}) - F_{fr}(v_p, x_{th})]. \\\\\n",
    "    \\end{aligned}\n",
    "$$\n",
    "\n",
    "TODOOO: REMAKE"
   ]
  },
  {
   "cell_type": "markdown",
   "metadata": {},
   "source": [
    "# APPLICATION"
   ]
  },
  {
   "cell_type": "markdown",
   "metadata": {},
   "source": [
    "OLD State dynamics function\n",
    "\n",
    "State dynamics function is:\n",
    "$$\n",
    "    \\begin{aligned}\n",
    "        &   \\dot{x_p} = \\begin{cases} v_p, \\text{ if } [x_{th} > 0] \\text{ and } [F_h(v_p, x_{th}) > |F_{fr}(v_p, x_{th})|] \\\\\n",
    "                        0, \\text{ otherwise }\\end{cases}\n",
    "        \\\\\n",
    "        &   \\dot{v_p} = \\begin{cases} \\frac{1}{m_p}[F_h(v_p, x_{th}) + F_{fr}(v_p, x_{th})], \\text{ if } [x_{th} > 0] \\text{ and } [F_h(v_p, x_{th}) > |F_{fr}(v_p, x_{th})|] \\\\\n",
    "                        0, \\text{ otherwise }\\end{cases}\n",
    "    \\end{aligned}\n",
    "    \\qquad x_{th} \\in [0, x_{th}^{max}],\n",
    "$$\n",
    "\n",
    "where (if $x_{th}>0$):\n",
    "$$\n",
    "    \\begin{aligned}\n",
    "        &   F_h(v_p, x_{th}) = \\left[p_l - \\frac{\\zeta_{th}\\rho_h D_h^4}{32D_{th}^2}\\left(\\frac{v_p}{x_{th}}\\right)^2 \\right]A_h - \\left[p_{atm} + \\frac{\\zeta_{exit}\\rho_t D_t^4}{2D_{exit}^4}v_p^2 \\right]A_t, \\\\\n",
    "        &   F_{fr}(v_p, x_{th}) = -\\frac{v_p}{|v_p|}\\max{[p_C\\cdot A_{max}, (1-\\eta)\\cdot F_h(v_p, x_{th})]}. \\\\\n",
    "    \\end{aligned}\n",
    "$$\n",
    "\n",
    "where $A_{max} = \\max{(A_h, A_t)}$"
   ]
  }
 ],
 "metadata": {
  "language_info": {
   "name": "python"
  }
 },
 "nbformat": 4,
 "nbformat_minor": 2
}
